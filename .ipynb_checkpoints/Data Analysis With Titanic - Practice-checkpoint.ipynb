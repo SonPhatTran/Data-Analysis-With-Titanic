{
 "cells": [
  {
   "cell_type": "markdown",
   "id": "25b9f55f",
   "metadata": {},
   "source": [
    "# Phân tích dữ liệu cùng với bộ dữ liệu Titanic"
   ]
  },
  {
   "cell_type": "markdown",
   "id": "cd37b19f",
   "metadata": {},
   "source": [
    "![Image](images/titanic.jpeg)"
   ]
  },
  {
   "cell_type": "markdown",
   "id": "364f804e",
   "metadata": {},
   "source": [
    "Được mệnh danh là \"Vị vua của Đại Tây Dương\", Titanic không chỉ là biểu tượng của sự xa xỉ và công nghệ tiên tiến thời đó, mà còn gắn liền với một bi kịch chưa từng có trong lịch sử hàng hải.\n",
    "\n",
    "Titanic được đặt ra hạ thủy vào năm 1911 và khởi hành trên hành trình đầu tiên từ Southampton, Anh đến New York, Mỹ vào ngày 10 tháng 4 năm 1912. Với bề dày 269 mét, trọng lượng 52,310 tấn và chứa đựng hơn 2,200 hành khách cùng thủy thủ đoàn, Titanic khi đó là con tàu lớn nhất và xa xỉ nhất thế giới. Tuy nhiên, một bi kịch không lường trước đã xảy ra khi con tàu này va chạm với một tảng băng trôi lớn vào ngày 14 tháng 4 năm 1912 và chìm xuống Đại Tây Dương sau đó chỉ 2 giờ 40 phút."
   ]
  },
  {
   "cell_type": "markdown",
   "id": "d997cddb",
   "metadata": {},
   "source": [
    "## Nhập các thư viện cần thiết"
   ]
  },
  {
   "cell_type": "code",
   "execution_count": 1,
   "id": "9864f17c",
   "metadata": {},
   "outputs": [],
   "source": [
    "# Nhập thư viện Pandas để phân tích dữ liệu\n",
    "import pandas as pd"
   ]
  },
  {
   "cell_type": "code",
   "execution_count": 2,
   "id": "30f69af0",
   "metadata": {},
   "outputs": [],
   "source": [
    "# Nhập thư viện Matplotlib và Seaborn để trực quan hóa dữ liệu\n",
    "import matplotlib.pyplot as plt\n",
    "import seaborn as sns"
   ]
  },
  {
   "cell_type": "markdown",
   "id": "546004fc",
   "metadata": {},
   "source": [
    "## Nhập bộ dataset Titanic"
   ]
  },
  {
   "cell_type": "markdown",
   "id": "b36c78b9",
   "metadata": {},
   "source": [
    "Documentation cho lệnh pd.read_csv(): https://pandas.pydata.org/docs/reference/api/pandas.read_csv.html"
   ]
  },
  {
   "cell_type": "code",
   "execution_count": 1,
   "id": "25304af7",
   "metadata": {},
   "outputs": [],
   "source": [
    "# Nhập bộ dataset Titanic trong folder data có tên là 'titanic.csv'"
   ]
  },
  {
   "cell_type": "markdown",
   "id": "079487d4",
   "metadata": {},
   "source": [
    "## Xử lý bộ dataset Titanic"
   ]
  },
  {
   "cell_type": "markdown",
   "id": "edf89226",
   "metadata": {},
   "source": [
    "Documentation cho lệnh head(): https://pandas.pydata.org/docs/reference/api/pandas.DataFrame.head.html"
   ]
  },
  {
   "cell_type": "code",
   "execution_count": 2,
   "id": "045e6bbe",
   "metadata": {},
   "outputs": [],
   "source": [
    "# In 5 hàng đầu tiên của bộ dữ liệu"
   ]
  },
  {
   "cell_type": "markdown",
   "id": "222587e5",
   "metadata": {},
   "source": [
    "Documentation cho lệnh drop(): https://pandas.pydata.org/docs/reference/api/pandas.DataFrame.drop.html"
   ]
  },
  {
   "cell_type": "code",
   "execution_count": 3,
   "id": "ad3a9678",
   "metadata": {},
   "outputs": [],
   "source": [
    "# Xóa đi cột Unnamed: 0"
   ]
  },
  {
   "cell_type": "markdown",
   "id": "158ec308",
   "metadata": {},
   "source": [
    "## Tìm hiểu về bộ dữ liệu Titanic"
   ]
  },
  {
   "cell_type": "code",
   "execution_count": 4,
   "id": "d1f1c954",
   "metadata": {},
   "outputs": [],
   "source": [
    "# In 10 hàng đầu tiên của bộ dữ liệu"
   ]
  },
  {
   "cell_type": "markdown",
   "id": "04fded92",
   "metadata": {},
   "source": [
    "Documentation cho thuộc tính .shape: https://pandas.pydata.org/docs/reference/api/pandas.DataFrame.shape.html"
   ]
  },
  {
   "cell_type": "code",
   "execution_count": 5,
   "id": "6abb408b",
   "metadata": {},
   "outputs": [],
   "source": [
    "# In số hàng, số cột của bộ dữ liệu"
   ]
  },
  {
   "cell_type": "markdown",
   "id": "fb4d7a41",
   "metadata": {},
   "source": [
    "### Ý nghĩa của các cột"
   ]
  },
  {
   "cell_type": "markdown",
   "id": "cd325def",
   "metadata": {},
   "source": [
    "Sau đây là ý nghĩa của các cột trong dataset:\n",
    "- PassengerId: Số thứ tự của từng hành khách.\n",
    "- Survived: Hành khác có sống sót hay không (1 = sống sót, 0 = không sống sót).\n",
    "- Pclass: Hạng vé của hành khách, phản ánh tầng lớp kinh tế-xã hội của hành khách đó (social-economic status).\n",
    "    - 1: Hạng vé thấp.\n",
    "    - 2: Hạng vé trung bình.\n",
    "    - 3: Hạng vé cao cấp.\n",
    "- Name: Tên hành khách (Họ, Tên).\n",
    "- Sex: Giới tính của hành khách.\n",
    "    - male: nam.\n",
    "    - female: nữ.\n",
    "- Age: Tuổi của hành khách.\n",
    "- SibSp: Số anh/chị/em hoặc vợ/chồng có trên tàu Titanic.\n",
    "- Parch: Số cha/mẹ hoặc con trên có trên tàu Titanic.\n",
    "- Ticket: Số vé của hành khách.\n",
    "- Fare: Giá vé của hành khách.\n",
    "- Cabin: Số cabin của hành khách.\n",
    "- Embarked: Điểm lên tàu của hành khách.\n",
    "    - C = Cherbourg.\n",
    "    - Q = Queenstown.\n",
    "    - S = Southampton."
   ]
  },
  {
   "cell_type": "markdown",
   "id": "9c6d8504",
   "metadata": {},
   "source": [
    "## Những giá trị bị thiếu"
   ]
  },
  {
   "cell_type": "markdown",
   "id": "0e154000",
   "metadata": {},
   "source": [
    "Documentation của lệnh isna(): https://pandas.pydata.org/docs/reference/api/pandas.DataFrame.isna.html"
   ]
  },
  {
   "cell_type": "code",
   "execution_count": 6,
   "id": "174f0773",
   "metadata": {},
   "outputs": [],
   "source": [
    "# In ra các giá trị bị thiếu của từng cột"
   ]
  },
  {
   "cell_type": "markdown",
   "id": "7bbb647d",
   "metadata": {},
   "source": [
    "Documentation của lệnh info(): https://pandas.pydata.org/docs/reference/api/pandas.DataFrame.info.html"
   ]
  },
  {
   "cell_type": "code",
   "execution_count": 8,
   "id": "e6b7ee67",
   "metadata": {},
   "outputs": [],
   "source": [
    "# Cách khác (dùng lệnh info())"
   ]
  },
  {
   "cell_type": "markdown",
   "id": "7599393f",
   "metadata": {},
   "source": [
    "## Tìm hiểu về tên của từng hành khách"
   ]
  },
  {
   "cell_type": "markdown",
   "id": "a4390294",
   "metadata": {},
   "source": [
    "Documentation cho lệnh apply(): https://pandas.pydata.org/docs/reference/api/pandas.DataFrame.apply.html"
   ]
  },
  {
   "cell_type": "code",
   "execution_count": 82,
   "id": "81382186",
   "metadata": {},
   "outputs": [],
   "source": [
    "# Tạo một cột mới chứa họ của các hành khách\n",
    "\n",
    "# Dùng lệnh apply để tạo một cột mới"
   ]
  },
  {
   "cell_type": "code",
   "execution_count": 89,
   "id": "c02d89a4",
   "metadata": {},
   "outputs": [],
   "source": [
    "# Dùng lệnh apply để tạo cột chức danh\n",
    "\n",
    "# Dùng lệnh apply để tạo một cột mới"
   ]
  },
  {
   "cell_type": "code",
   "execution_count": 9,
   "id": "08522c50",
   "metadata": {},
   "outputs": [],
   "source": [
    "# In dataset"
   ]
  },
  {
   "cell_type": "code",
   "execution_count": 10,
   "id": "29f6d182",
   "metadata": {},
   "outputs": [],
   "source": [
    "# In ra 10 Họ phổ biến nhất"
   ]
  },
  {
   "cell_type": "markdown",
   "id": "a42974c9",
   "metadata": {},
   "source": [
    "Documentation cho lệnh barplot(): https://seaborn.pydata.org/generated/seaborn.barplot.html"
   ]
  },
  {
   "cell_type": "code",
   "execution_count": 11,
   "id": "a9e367c9",
   "metadata": {},
   "outputs": [],
   "source": [
    "# In biểu đồ 10 họ phổ biến nhất"
   ]
  },
  {
   "cell_type": "markdown",
   "id": "3a79c3ad",
   "metadata": {},
   "source": [
    "Nguồn gốc của các họ:\n",
    "- Andersson: Sweden (Thụy Điển), Finland (Phần Lan), Norway (Na Uy).\n",
    "- Asplund: Sweden (Thụy Điển), Norway (Na Uy).\n",
    "- Fortune: Từ vùng đất Fortune ở phía Đông Lothian, là một vùng của Vùng đất thấp Scotland."
   ]
  },
  {
   "cell_type": "markdown",
   "id": "faefb790",
   "metadata": {},
   "source": [
    "## Tìm hiểu về hạng của hành khách"
   ]
  },
  {
   "cell_type": "markdown",
   "id": "558f8c66",
   "metadata": {},
   "source": [
    "Documentation cho lệnh countplot(): https://seaborn.pydata.org/generated/seaborn.countplot.html"
   ]
  },
  {
   "cell_type": "code",
   "execution_count": 12,
   "id": "d4e16ca8",
   "metadata": {},
   "outputs": [],
   "source": [
    "# Vẽ biểu đồ phân phối hạng của hành khách"
   ]
  },
  {
   "cell_type": "code",
   "execution_count": 13,
   "id": "e0a4ab1e",
   "metadata": {},
   "outputs": [],
   "source": [
    "# In số đếm từng hành khách"
   ]
  },
  {
   "cell_type": "markdown",
   "id": "175a5cc2",
   "metadata": {},
   "source": [
    "Hành khách trên tàu được chia thành ba hạng riêng biệt theo giá vé của họ: \n",
    "\n",
    "- Pclass = 1 - Những người đi khoang hạng nhất, hầu hết là những hành khách giàu có nhất trên tàu, bao gồm các thành viên nổi bật của tầng lớp thượng lưu, doanh nhân, chính trị gia, quân nhân cấp cao, các nhà công nghiệp, chủ ngân hàng, nghệ sĩ giải trí, xã hội và vận động viên chuyên nghiệp.\n",
    "<br ><br >\n",
    "- Pclass = 2 - Hành khách hạng hai chủ yếu là du khách thuộc tầng lớp trung lưu và bao gồm các giáo sư, tác giả, giáo sĩ và khách du lịch. \n",
    "<br ><br >\n",
    "- Pclass = 3 - Hành khách hạng ba chủ yếu là những người nhập cư đến Hoa Kỳ và Canada."
   ]
  },
  {
   "cell_type": "markdown",
   "id": "56a23eef",
   "metadata": {},
   "source": [
    "## Tìm hiểu về giới tính của hành khách"
   ]
  },
  {
   "cell_type": "code",
   "execution_count": 14,
   "id": "84e690f2",
   "metadata": {},
   "outputs": [],
   "source": [
    "# In số đếm từng hành khách"
   ]
  },
  {
   "cell_type": "markdown",
   "id": "0839c437",
   "metadata": {},
   "source": [
    "Documentation cho lệnh countplot(): https://seaborn.pydata.org/generated/seaborn.countplot.html"
   ]
  },
  {
   "cell_type": "code",
   "execution_count": 15,
   "id": "12612156",
   "metadata": {},
   "outputs": [],
   "source": [
    "# Vẽ biểu đồ kết hợp giới tính và thứ hạng của từng hành khách"
   ]
  },
  {
   "cell_type": "markdown",
   "id": "5a8fe9ce",
   "metadata": {},
   "source": [
    "## Tìm hiểu về tuổi của từng hành khách"
   ]
  },
  {
   "cell_type": "markdown",
   "id": "bf9503b3",
   "metadata": {},
   "source": [
    "Documentation cho lệnh catplot(): https://seaborn.pydata.org/generated/seaborn.catplot.html"
   ]
  },
  {
   "cell_type": "code",
   "execution_count": 16,
   "id": "cce4b484",
   "metadata": {},
   "outputs": [],
   "source": [
    "# Vẽ biểu đồ phân phối tuổi của các hành khách"
   ]
  },
  {
   "cell_type": "markdown",
   "id": "80f74de4",
   "metadata": {},
   "source": [
    "## Tìm hiểu về hành khách sống sót"
   ]
  },
  {
   "cell_type": "code",
   "execution_count": 17,
   "id": "94253182",
   "metadata": {},
   "outputs": [],
   "source": [
    "# Tỷ lệ hành khách sống sót"
   ]
  },
  {
   "cell_type": "code",
   "execution_count": 18,
   "id": "237051c4",
   "metadata": {},
   "outputs": [],
   "source": [
    "# Tỷ lệ sống só theo giới tính"
   ]
  },
  {
   "cell_type": "code",
   "execution_count": 19,
   "id": "893d9b52",
   "metadata": {},
   "outputs": [],
   "source": [
    "# Số hành khách sống sót theo lứa tuổi\n",
    "# Thêm cột nhóm tuổi tuổi\n",
    "    \n",
    "# Thêm cột nhóm tuổi bằng lệnh apply\n",
    "\n",
    "# In tập dataset"
   ]
  },
  {
   "cell_type": "code",
   "execution_count": 20,
   "id": "df3fcaec",
   "metadata": {},
   "outputs": [],
   "source": [
    "# Tỷ lệ sống sót theo nhóm tuổi"
   ]
  },
  {
   "cell_type": "code",
   "execution_count": 21,
   "id": "3f120e35",
   "metadata": {},
   "outputs": [],
   "source": [
    "# Số hành khác sống sót theo nhóm tuổi"
   ]
  }
 ],
 "metadata": {
  "kernelspec": {
   "display_name": "Python 3 (ipykernel)",
   "language": "python",
   "name": "python3"
  },
  "language_info": {
   "codemirror_mode": {
    "name": "ipython",
    "version": 3
   },
   "file_extension": ".py",
   "mimetype": "text/x-python",
   "name": "python",
   "nbconvert_exporter": "python",
   "pygments_lexer": "ipython3",
   "version": "3.8.16"
  }
 },
 "nbformat": 4,
 "nbformat_minor": 5
}
